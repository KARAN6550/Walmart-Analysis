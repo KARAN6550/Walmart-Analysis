{
 "cells": [
  {
   "cell_type": "markdown",
   "id": "33e06dce-6376-4679-9f87-37bd7383616a",
   "metadata": {},
   "source": [
    "### Introduction of Walmart Analysis"
   ]
  },
  {
   "cell_type": "markdown",
   "id": "2e6c5867-5bac-4717-b5eb-9966e752239d",
   "metadata": {},
   "source": [
    "#### About Walmart\n",
    "\n",
    "Walmart is an American multinational retail corporation that operates a chain of supercenters, discount departmental stores, and grocery stores from the United States. Walmart has more than 100 million customers worldwide.\n",
    "\n",
    "The purpose of this analysis is to provide the Walmart management team with a comprehensive understanding of customer purchase behavior, particularly in relation to gender. Our focus will be on examining whether there is a significant difference in spending patterns between male and female customers, especially during peak shopping events such as Black Friday.This analysis will delve into the nuances of consumer behavior, offering data-driven insights that will empower Walmart to make more informed business decisions.\n",
    "\n",
    "The findings will not only shed light on gender-based spending trends but also identify other critical factors influencing purchase amounts, ultimately guiding Walmart in optimizing its sales strategies and enhancing customer satisfaction."
   ]
  },
  {
   "cell_type": "code",
   "execution_count": 3,
   "id": "4f141477-39da-4e72-a944-0b1ecdd861f2",
   "metadata": {},
   "outputs": [],
   "source": [
    "import numpy as np\n",
    "import pandas as pd\n",
    "from matplotlib import pyplot\n",
    "import seaborn as sns"
   ]
  },
  {
   "cell_type": "code",
   "execution_count": 4,
   "id": "9d3e4b0a-c45b-4033-987c-37c2071e173e",
   "metadata": {},
   "outputs": [],
   "source": [
    "df=pd.read_csv('/Users/karan/Downloads/walmart_data.txt')"
   ]
  },
  {
   "cell_type": "code",
   "execution_count": 5,
   "id": "40179263-edf4-4956-8a4c-5362d82b1430",
   "metadata": {},
   "outputs": [
    {
     "data": {
      "text/html": [
       "<div>\n",
       "<style scoped>\n",
       "    .dataframe tbody tr th:only-of-type {\n",
       "        vertical-align: middle;\n",
       "    }\n",
       "\n",
       "    .dataframe tbody tr th {\n",
       "        vertical-align: top;\n",
       "    }\n",
       "\n",
       "    .dataframe thead th {\n",
       "        text-align: right;\n",
       "    }\n",
       "</style>\n",
       "<table border=\"1\" class=\"dataframe\">\n",
       "  <thead>\n",
       "    <tr style=\"text-align: right;\">\n",
       "      <th></th>\n",
       "      <th>User_ID</th>\n",
       "      <th>Product_ID</th>\n",
       "      <th>Gender</th>\n",
       "      <th>Age</th>\n",
       "      <th>Occupation</th>\n",
       "      <th>City_Category</th>\n",
       "      <th>Stay_In_Current_City_Years</th>\n",
       "      <th>Marital_Status</th>\n",
       "      <th>Product_Category</th>\n",
       "      <th>Purchase</th>\n",
       "    </tr>\n",
       "  </thead>\n",
       "  <tbody>\n",
       "    <tr>\n",
       "      <th>0</th>\n",
       "      <td>1000001</td>\n",
       "      <td>P00069042</td>\n",
       "      <td>F</td>\n",
       "      <td>0-17</td>\n",
       "      <td>10</td>\n",
       "      <td>A</td>\n",
       "      <td>2</td>\n",
       "      <td>0</td>\n",
       "      <td>3</td>\n",
       "      <td>8370</td>\n",
       "    </tr>\n",
       "    <tr>\n",
       "      <th>1</th>\n",
       "      <td>1000001</td>\n",
       "      <td>P00248942</td>\n",
       "      <td>F</td>\n",
       "      <td>0-17</td>\n",
       "      <td>10</td>\n",
       "      <td>A</td>\n",
       "      <td>2</td>\n",
       "      <td>0</td>\n",
       "      <td>1</td>\n",
       "      <td>15200</td>\n",
       "    </tr>\n",
       "    <tr>\n",
       "      <th>2</th>\n",
       "      <td>1000001</td>\n",
       "      <td>P00087842</td>\n",
       "      <td>F</td>\n",
       "      <td>0-17</td>\n",
       "      <td>10</td>\n",
       "      <td>A</td>\n",
       "      <td>2</td>\n",
       "      <td>0</td>\n",
       "      <td>12</td>\n",
       "      <td>1422</td>\n",
       "    </tr>\n",
       "    <tr>\n",
       "      <th>3</th>\n",
       "      <td>1000001</td>\n",
       "      <td>P00085442</td>\n",
       "      <td>F</td>\n",
       "      <td>0-17</td>\n",
       "      <td>10</td>\n",
       "      <td>A</td>\n",
       "      <td>2</td>\n",
       "      <td>0</td>\n",
       "      <td>12</td>\n",
       "      <td>1057</td>\n",
       "    </tr>\n",
       "    <tr>\n",
       "      <th>4</th>\n",
       "      <td>1000002</td>\n",
       "      <td>P00285442</td>\n",
       "      <td>M</td>\n",
       "      <td>55+</td>\n",
       "      <td>16</td>\n",
       "      <td>C</td>\n",
       "      <td>4+</td>\n",
       "      <td>0</td>\n",
       "      <td>8</td>\n",
       "      <td>7969</td>\n",
       "    </tr>\n",
       "  </tbody>\n",
       "</table>\n",
       "</div>"
      ],
      "text/plain": [
       "   User_ID Product_ID Gender   Age  Occupation City_Category  \\\n",
       "0  1000001  P00069042      F  0-17          10             A   \n",
       "1  1000001  P00248942      F  0-17          10             A   \n",
       "2  1000001  P00087842      F  0-17          10             A   \n",
       "3  1000001  P00085442      F  0-17          10             A   \n",
       "4  1000002  P00285442      M   55+          16             C   \n",
       "\n",
       "  Stay_In_Current_City_Years  Marital_Status  Product_Category  Purchase  \n",
       "0                          2               0                 3      8370  \n",
       "1                          2               0                 1     15200  \n",
       "2                          2               0                12      1422  \n",
       "3                          2               0                12      1057  \n",
       "4                         4+               0                 8      7969  "
      ]
     },
     "execution_count": 5,
     "metadata": {},
     "output_type": "execute_result"
    }
   ],
   "source": [
    "df.head()"
   ]
  },
  {
   "cell_type": "code",
   "execution_count": 6,
   "id": "c5cd33b4-a501-48bd-80ad-a33582dcc970",
   "metadata": {},
   "outputs": [
    {
     "name": "stdout",
     "output_type": "stream",
     "text": [
      "<class 'pandas.core.frame.DataFrame'>\n",
      "RangeIndex: 550068 entries, 0 to 550067\n",
      "Data columns (total 10 columns):\n",
      " #   Column                      Non-Null Count   Dtype \n",
      "---  ------                      --------------   ----- \n",
      " 0   User_ID                     550068 non-null  int64 \n",
      " 1   Product_ID                  550068 non-null  object\n",
      " 2   Gender                      550068 non-null  object\n",
      " 3   Age                         550068 non-null  object\n",
      " 4   Occupation                  550068 non-null  int64 \n",
      " 5   City_Category               550068 non-null  object\n",
      " 6   Stay_In_Current_City_Years  550068 non-null  object\n",
      " 7   Marital_Status              550068 non-null  int64 \n",
      " 8   Product_Category            550068 non-null  int64 \n",
      " 9   Purchase                    550068 non-null  int64 \n",
      "dtypes: int64(5), object(5)\n",
      "memory usage: 42.0+ MB\n"
     ]
    }
   ],
   "source": [
    "df.info()"
   ]
  },
  {
   "cell_type": "code",
   "execution_count": 7,
   "id": "ad131652-e521-47fe-9c45-145be6890476",
   "metadata": {},
   "outputs": [
    {
     "data": {
      "text/html": [
       "<div>\n",
       "<style scoped>\n",
       "    .dataframe tbody tr th:only-of-type {\n",
       "        vertical-align: middle;\n",
       "    }\n",
       "\n",
       "    .dataframe tbody tr th {\n",
       "        vertical-align: top;\n",
       "    }\n",
       "\n",
       "    .dataframe thead th {\n",
       "        text-align: right;\n",
       "    }\n",
       "</style>\n",
       "<table border=\"1\" class=\"dataframe\">\n",
       "  <thead>\n",
       "    <tr style=\"text-align: right;\">\n",
       "      <th></th>\n",
       "      <th>User_ID</th>\n",
       "      <th>Occupation</th>\n",
       "      <th>Marital_Status</th>\n",
       "      <th>Product_Category</th>\n",
       "      <th>Purchase</th>\n",
       "    </tr>\n",
       "  </thead>\n",
       "  <tbody>\n",
       "    <tr>\n",
       "      <th>count</th>\n",
       "      <td>5.500680e+05</td>\n",
       "      <td>550068.000000</td>\n",
       "      <td>550068.000000</td>\n",
       "      <td>550068.000000</td>\n",
       "      <td>550068.000000</td>\n",
       "    </tr>\n",
       "    <tr>\n",
       "      <th>mean</th>\n",
       "      <td>1.003029e+06</td>\n",
       "      <td>8.076707</td>\n",
       "      <td>0.409653</td>\n",
       "      <td>5.404270</td>\n",
       "      <td>9263.968713</td>\n",
       "    </tr>\n",
       "    <tr>\n",
       "      <th>std</th>\n",
       "      <td>1.727592e+03</td>\n",
       "      <td>6.522660</td>\n",
       "      <td>0.491770</td>\n",
       "      <td>3.936211</td>\n",
       "      <td>5023.065394</td>\n",
       "    </tr>\n",
       "    <tr>\n",
       "      <th>min</th>\n",
       "      <td>1.000001e+06</td>\n",
       "      <td>0.000000</td>\n",
       "      <td>0.000000</td>\n",
       "      <td>1.000000</td>\n",
       "      <td>12.000000</td>\n",
       "    </tr>\n",
       "    <tr>\n",
       "      <th>25%</th>\n",
       "      <td>1.001516e+06</td>\n",
       "      <td>2.000000</td>\n",
       "      <td>0.000000</td>\n",
       "      <td>1.000000</td>\n",
       "      <td>5823.000000</td>\n",
       "    </tr>\n",
       "    <tr>\n",
       "      <th>50%</th>\n",
       "      <td>1.003077e+06</td>\n",
       "      <td>7.000000</td>\n",
       "      <td>0.000000</td>\n",
       "      <td>5.000000</td>\n",
       "      <td>8047.000000</td>\n",
       "    </tr>\n",
       "    <tr>\n",
       "      <th>75%</th>\n",
       "      <td>1.004478e+06</td>\n",
       "      <td>14.000000</td>\n",
       "      <td>1.000000</td>\n",
       "      <td>8.000000</td>\n",
       "      <td>12054.000000</td>\n",
       "    </tr>\n",
       "    <tr>\n",
       "      <th>max</th>\n",
       "      <td>1.006040e+06</td>\n",
       "      <td>20.000000</td>\n",
       "      <td>1.000000</td>\n",
       "      <td>20.000000</td>\n",
       "      <td>23961.000000</td>\n",
       "    </tr>\n",
       "  </tbody>\n",
       "</table>\n",
       "</div>"
      ],
      "text/plain": [
       "            User_ID     Occupation  Marital_Status  Product_Category  \\\n",
       "count  5.500680e+05  550068.000000   550068.000000     550068.000000   \n",
       "mean   1.003029e+06       8.076707        0.409653          5.404270   \n",
       "std    1.727592e+03       6.522660        0.491770          3.936211   \n",
       "min    1.000001e+06       0.000000        0.000000          1.000000   \n",
       "25%    1.001516e+06       2.000000        0.000000          1.000000   \n",
       "50%    1.003077e+06       7.000000        0.000000          5.000000   \n",
       "75%    1.004478e+06      14.000000        1.000000          8.000000   \n",
       "max    1.006040e+06      20.000000        1.000000         20.000000   \n",
       "\n",
       "            Purchase  \n",
       "count  550068.000000  \n",
       "mean     9263.968713  \n",
       "std      5023.065394  \n",
       "min        12.000000  \n",
       "25%      5823.000000  \n",
       "50%      8047.000000  \n",
       "75%     12054.000000  \n",
       "max     23961.000000  "
      ]
     },
     "execution_count": 7,
     "metadata": {},
     "output_type": "execute_result"
    }
   ],
   "source": [
    "df.describe()"
   ]
  },
  {
   "cell_type": "code",
   "execution_count": 8,
   "id": "267bda77-ff7f-452b-83fc-617da73b09ec",
   "metadata": {},
   "outputs": [
    {
     "data": {
      "text/html": [
       "<div>\n",
       "<style scoped>\n",
       "    .dataframe tbody tr th:only-of-type {\n",
       "        vertical-align: middle;\n",
       "    }\n",
       "\n",
       "    .dataframe tbody tr th {\n",
       "        vertical-align: top;\n",
       "    }\n",
       "\n",
       "    .dataframe thead th {\n",
       "        text-align: right;\n",
       "    }\n",
       "</style>\n",
       "<table border=\"1\" class=\"dataframe\">\n",
       "  <thead>\n",
       "    <tr style=\"text-align: right;\">\n",
       "      <th></th>\n",
       "      <th>Product_ID</th>\n",
       "      <th>Gender</th>\n",
       "      <th>Age</th>\n",
       "      <th>City_Category</th>\n",
       "      <th>Stay_In_Current_City_Years</th>\n",
       "    </tr>\n",
       "  </thead>\n",
       "  <tbody>\n",
       "    <tr>\n",
       "      <th>count</th>\n",
       "      <td>550068</td>\n",
       "      <td>550068</td>\n",
       "      <td>550068</td>\n",
       "      <td>550068</td>\n",
       "      <td>550068</td>\n",
       "    </tr>\n",
       "    <tr>\n",
       "      <th>unique</th>\n",
       "      <td>3631</td>\n",
       "      <td>2</td>\n",
       "      <td>7</td>\n",
       "      <td>3</td>\n",
       "      <td>5</td>\n",
       "    </tr>\n",
       "    <tr>\n",
       "      <th>top</th>\n",
       "      <td>P00265242</td>\n",
       "      <td>M</td>\n",
       "      <td>26-35</td>\n",
       "      <td>B</td>\n",
       "      <td>1</td>\n",
       "    </tr>\n",
       "    <tr>\n",
       "      <th>freq</th>\n",
       "      <td>1880</td>\n",
       "      <td>414259</td>\n",
       "      <td>219587</td>\n",
       "      <td>231173</td>\n",
       "      <td>193821</td>\n",
       "    </tr>\n",
       "  </tbody>\n",
       "</table>\n",
       "</div>"
      ],
      "text/plain": [
       "       Product_ID  Gender     Age City_Category Stay_In_Current_City_Years\n",
       "count      550068  550068  550068        550068                     550068\n",
       "unique       3631       2       7             3                          5\n",
       "top     P00265242       M   26-35             B                          1\n",
       "freq         1880  414259  219587        231173                     193821"
      ]
     },
     "execution_count": 8,
     "metadata": {},
     "output_type": "execute_result"
    }
   ],
   "source": [
    "df.describe(include=\"object\")"
   ]
  },
  {
   "cell_type": "code",
   "execution_count": 9,
   "id": "a944289f-223c-45c1-9fe9-9d1364ec4180",
   "metadata": {},
   "outputs": [
    {
     "data": {
      "text/plain": [
       "(550068, 10)"
      ]
     },
     "execution_count": 9,
     "metadata": {},
     "output_type": "execute_result"
    }
   ],
   "source": [
    "df.shape"
   ]
  },
  {
   "cell_type": "code",
   "execution_count": 10,
   "id": "e0514e4f-4e2d-4c69-a8bc-def2ab50f6da",
   "metadata": {},
   "outputs": [
    {
     "data": {
      "text/plain": [
       "User_ID                       0\n",
       "Product_ID                    0\n",
       "Gender                        0\n",
       "Age                           0\n",
       "Occupation                    0\n",
       "City_Category                 0\n",
       "Stay_In_Current_City_Years    0\n",
       "Marital_Status                0\n",
       "Product_Category              0\n",
       "Purchase                      0\n",
       "dtype: int64"
      ]
     },
     "execution_count": 10,
     "metadata": {},
     "output_type": "execute_result"
    }
   ],
   "source": [
    "df.isnull().sum()"
   ]
  },
  {
   "cell_type": "markdown",
   "id": "346e6902-082b-4e2a-9e5b-aab631eafcd3",
   "metadata": {},
   "source": [
    "Upon examining the dataset, we confirmed that it contains no missing values."
   ]
  },
  {
   "cell_type": "code",
   "execution_count": 12,
   "id": "7df7fa32-8588-4391-8de4-1cd1d10dd214",
   "metadata": {},
   "outputs": [
    {
     "data": {
      "text/plain": [
       "Gender\n",
       "M    75.310507\n",
       "F    24.689493\n",
       "Name: proportion, dtype: float64"
      ]
     },
     "execution_count": 12,
     "metadata": {},
     "output_type": "execute_result"
    }
   ],
   "source": [
    "df['Gender'].value_counts(normalize=True)*100"
   ]
  },
  {
   "cell_type": "code",
   "execution_count": 88,
   "id": "458b0c9c-124e-4867-8914-885371088f2d",
   "metadata": {},
   "outputs": [
    {
     "data": {
      "text/plain": [
       "Gender\n",
       "F    1666\n",
       "M    4225\n",
       "Name: User_ID, dtype: int64"
      ]
     },
     "execution_count": 88,
     "metadata": {},
     "output_type": "execute_result"
    }
   ],
   "source": [
    "df.groupby('Gender')['User_ID'].nunique()"
   ]
  },
  {
   "cell_type": "markdown",
   "id": "c85709a6-2f0a-47df-af5d-907ab9952463",
   "metadata": {},
   "source": [
    "There approximately 5,891 unique user IDs, indicating a diverse and extensive customer base. This diversity in user IDs provides a robust foundation for analyzing customer behavior and trends."
   ]
  },
  {
   "cell_type": "code",
   "execution_count": 14,
   "id": "7371698e-483b-4880-89e7-a6258b76abe4",
   "metadata": {},
   "outputs": [
    {
     "data": {
      "text/html": [
       "<div>\n",
       "<style scoped>\n",
       "    .dataframe tbody tr th:only-of-type {\n",
       "        vertical-align: middle;\n",
       "    }\n",
       "\n",
       "    .dataframe tbody tr th {\n",
       "        vertical-align: top;\n",
       "    }\n",
       "\n",
       "    .dataframe thead th {\n",
       "        text-align: right;\n",
       "    }\n",
       "</style>\n",
       "<table border=\"1\" class=\"dataframe\">\n",
       "  <thead>\n",
       "    <tr style=\"text-align: right;\">\n",
       "      <th></th>\n",
       "      <th>count</th>\n",
       "      <th>mean</th>\n",
       "      <th>std</th>\n",
       "      <th>min</th>\n",
       "      <th>25%</th>\n",
       "      <th>50%</th>\n",
       "      <th>75%</th>\n",
       "      <th>max</th>\n",
       "    </tr>\n",
       "    <tr>\n",
       "      <th>Gender</th>\n",
       "      <th></th>\n",
       "      <th></th>\n",
       "      <th></th>\n",
       "      <th></th>\n",
       "      <th></th>\n",
       "      <th></th>\n",
       "      <th></th>\n",
       "      <th></th>\n",
       "    </tr>\n",
       "  </thead>\n",
       "  <tbody>\n",
       "    <tr>\n",
       "      <th>F</th>\n",
       "      <td>135809.0</td>\n",
       "      <td>8734.565765</td>\n",
       "      <td>4767.233289</td>\n",
       "      <td>12.0</td>\n",
       "      <td>5433.0</td>\n",
       "      <td>7914.0</td>\n",
       "      <td>11400.0</td>\n",
       "      <td>23959.0</td>\n",
       "    </tr>\n",
       "    <tr>\n",
       "      <th>M</th>\n",
       "      <td>414259.0</td>\n",
       "      <td>9437.526040</td>\n",
       "      <td>5092.186210</td>\n",
       "      <td>12.0</td>\n",
       "      <td>5863.0</td>\n",
       "      <td>8098.0</td>\n",
       "      <td>12454.0</td>\n",
       "      <td>23961.0</td>\n",
       "    </tr>\n",
       "  </tbody>\n",
       "</table>\n",
       "</div>"
      ],
      "text/plain": [
       "           count         mean          std   min     25%     50%      75%  \\\n",
       "Gender                                                                      \n",
       "F       135809.0  8734.565765  4767.233289  12.0  5433.0  7914.0  11400.0   \n",
       "M       414259.0  9437.526040  5092.186210  12.0  5863.0  8098.0  12454.0   \n",
       "\n",
       "            max  \n",
       "Gender           \n",
       "F       23959.0  \n",
       "M       23961.0  "
      ]
     },
     "execution_count": 14,
     "metadata": {},
     "output_type": "execute_result"
    }
   ],
   "source": [
    "df.groupby('Gender')['Purchase'].describe()"
   ]
  },
  {
   "cell_type": "markdown",
   "id": "df9b3e4d-3279-4adc-a07b-4164952069a6",
   "metadata": {},
   "source": [
    "However, it is worth noting that while the average spending among men is higher, the maximum spending observed among women exceeds that of men. "
   ]
  },
  {
   "cell_type": "code",
   "execution_count": 15,
   "id": "240aecdc-13f0-4bb0-90c9-f759a0d9a7d3",
   "metadata": {},
   "outputs": [
    {
     "data": {
      "text/plain": [
       "<Axes: xlabel='Gender', ylabel='Purchase'>"
      ]
     },
     "execution_count": 15,
     "metadata": {},
     "output_type": "execute_result"
    },
    {
     "data": {
      "image/png": "[encoded data removed]",
      "text/plain": [
       "<Figure size 640x480 with 1 Axes>"
      ]
     },
     "metadata": {},
     "output_type": "display_data"
    }
   ],
   "source": [
    "sns.boxplot(x='Gender',y='Purchase',data=df)"
   ]
  },
  {
   "cell_type": "code",
   "execution_count": 16,
   "id": "6031b846-8ffc-4495-ab86-1ef147c01e1c",
   "metadata": {},
   "outputs": [
    {
     "data": {
      "text/plain": [
       "Gender\n",
       "F    8734.565765\n",
       "M    9437.526040\n",
       "Name: Purchase, dtype: float64"
      ]
     },
     "execution_count": 16,
     "metadata": {},
     "output_type": "execute_result"
    }
   ],
   "source": [
    "df.groupby('Gender')['Purchase'].mean()"
   ]
  },
  {
   "cell_type": "markdown",
   "id": "e45d9a37-982e-4b62-a782-58ba750ac9e8",
   "metadata": {},
   "source": [
    "Our preliminary analysis suggests that men, on average, tend to spend more than women.This finding will be further examined and validated in our subsequent analysis."
   ]
  },
  {
   "cell_type": "code",
   "execution_count": 17,
   "id": "a2802cd4-49bc-4ab5-87c3-77030e710c39",
   "metadata": {},
   "outputs": [
    {
     "data": {
      "text/plain": [
       "<Axes: xlabel='Marital_Status', ylabel='Purchase'>"
      ]
     },
     "execution_count": 17,
     "metadata": {},
     "output_type": "execute_result"
    },
    {
     "data": {
      "image/png": "[encoded data removed]",
      "text/plain": [
       "<Figure size 640x480 with 1 Axes>"
      ]
     },
     "metadata": {},
     "output_type": "display_data"
    }
   ],
   "source": [
    "sns.boxplot(x=\"Marital_Status\",y='Purchase',data=df)"
   ]
  },
  {
   "cell_type": "code",
   "execution_count": 18,
   "id": "f93d9ff6-05b9-425d-a31f-4fa117eaf46c",
   "metadata": {},
   "outputs": [
    {
     "data": {
      "text/plain": [
       "<seaborn.axisgrid.FacetGrid at 0x20bcf3c9700>"
      ]
     },
     "execution_count": 18,
     "metadata": {},
     "output_type": "execute_result"
    },
    {
     "data": {
      "image/png": "[encoded data removed]",
      "text/plain": [
       "<Figure size 562.236x500 with 1 Axes>"
      ]
     },
     "metadata": {},
     "output_type": "display_data"
    }
   ],
   "source": [
    "sns.displot(x='Purchase',hue='Gender',data=df,bins=20)"
   ]
  },
  {
   "cell_type": "code",
   "execution_count": 20,
   "id": "1d34c783-9617-4b0f-882c-dc1f1ee14c44",
   "metadata": {},
   "outputs": [],
   "source": [
    "n=500\n",
    "itr=1000\n",
    "male_sample_mean=[df[df['Gender']==\"M\"].sample(n,replace=True)['Purchase'].mean() for i in range (itr)]"
   ]
  },
  {
   "cell_type": "code",
   "execution_count": 21,
   "id": "56b2c8bf-7352-403c-ad4a-269768706842",
   "metadata": {},
   "outputs": [
    {
     "data": {
      "text/plain": [
       "<seaborn.axisgrid.FacetGrid at 0x20bcf2d24e0>"
      ]
     },
     "execution_count": 21,
     "metadata": {},
     "output_type": "execute_result"
    },
    {
     "data": {
      "image/png": "[encoded data removed]",
      "text/plain": [
       "<Figure size 500x500 with 1 Axes>"
      ]
     },
     "metadata": {},
     "output_type": "display_data"
    }
   ],
   "source": [
    "sns.displot(male_sample_mean)"
   ]
  },
  {
   "cell_type": "code",
   "execution_count": 22,
   "id": "e76f5ceb-2d5b-4fa8-bcde-1ffa4cd2358d",
   "metadata": {},
   "outputs": [],
   "source": [
    "n=500\n",
    "itr=1000\n",
    "female_sample_mean=[df[df['Gender']==\"F\"].sample(n,replace=True)['Purchase'].mean() for i in range (itr)]"
   ]
  },
  {
   "cell_type": "code",
   "execution_count": 23,
   "id": "2eba834c-d1e5-4858-a7a4-baf0a9071db1",
   "metadata": {},
   "outputs": [
    {
     "data": {
      "text/plain": [
       "<seaborn.axisgrid.FacetGrid at 0x20bd7c8d7f0>"
      ]
     },
     "execution_count": 23,
     "metadata": {},
     "output_type": "execute_result"
    },
    {
     "data": {
      "image/png": "[encoded data removed]",
      "text/plain": [
       "<Figure size 500x500 with 1 Axes>"
      ]
     },
     "metadata": {},
     "output_type": "display_data"
    }
   ],
   "source": [
    "sns.displot(female_sample_mean)"
   ]
  },
  {
   "cell_type": "code",
   "execution_count": 24,
   "id": "f9c83bfb-f6db-40cb-944e-aa8580374ce1",
   "metadata": {},
   "outputs": [],
   "source": [
    "from scipy.stats import norm\n",
    "#with 95% confidence interval"
   ]
  },
  {
   "cell_type": "code",
   "execution_count": 25,
   "id": "9a7fa84e-f554-41d4-a1e4-fe17df80d43c",
   "metadata": {},
   "outputs": [],
   "source": [
    "z_score=np.round(norm.ppf(0.975),2)"
   ]
  },
  {
   "cell_type": "code",
   "execution_count": 26,
   "id": "f4088add-2872-45af-b407-8c7a59091008",
   "metadata": {},
   "outputs": [],
   "source": [
    "male_upper_limit=np.mean(male_sample_mean)+z_score*(np.std(male_sample_mean))"
   ]
  },
  {
   "cell_type": "code",
   "execution_count": 27,
   "id": "1c048709-1196-48f7-a260-377a8e9124b4",
   "metadata": {},
   "outputs": [],
   "source": [
    "male_lower_limit=np.mean(male_sample_mean)-z_score*(np.std(male_sample_mean))"
   ]
  },
  {
   "cell_type": "code",
   "execution_count": 28,
   "id": "4181dc3a-1747-437d-9b12-549823a5d338",
   "metadata": {},
   "outputs": [
    {
     "data": {
      "text/plain": [
       "(8990.943660886189, 9883.056987113809)"
      ]
     },
     "execution_count": 28,
     "metadata": {},
     "output_type": "execute_result"
    }
   ],
   "source": [
    "male_lower_limit,male_upper_limit"
   ]
  },
  {
   "cell_type": "code",
   "execution_count": 29,
   "id": "bdfa06b6-4385-4145-a595-2d9ea29bfd8c",
   "metadata": {},
   "outputs": [],
   "source": [
    "female_upper_limit=np.mean(female_sample_mean)+z_score*(np.std(female_sample_mean))\n",
    "female_lower_limit=np.mean(female_sample_mean)-z_score*(np.std(female_sample_mean))"
   ]
  },
  {
   "cell_type": "code",
   "execution_count": 30,
   "id": "87b80caa-8371-4f8a-9d0e-a53a990f5e7e",
   "metadata": {},
   "outputs": [
    {
     "data": {
      "text/plain": [
       "(8312.317343385477, 9152.482724614523)"
      ]
     },
     "execution_count": 30,
     "metadata": {},
     "output_type": "execute_result"
    }
   ],
   "source": [
    "female_lower_limit,female_upper_limit"
   ]
  },
  {
   "cell_type": "code",
   "execution_count": 31,
   "id": "cce453c4-5fd2-4f7e-98a0-5fd2fadb1ae5",
   "metadata": {},
   "outputs": [
    {
     "data": {
      "text/plain": [
       "array([8953.90235, 9892.72665])"
      ]
     },
     "execution_count": 31,
     "metadata": {},
     "output_type": "execute_result"
    }
   ],
   "source": [
    "male_limits= np.percentile(male_sample_mean, [2.5, 97.5])\n",
    "male_limits"
   ]
  },
  {
   "cell_type": "code",
   "execution_count": 32,
   "id": "7599be54-cf46-4de8-9bfa-6a0303f638aa",
   "metadata": {},
   "outputs": [
    {
     "data": {
      "text/plain": [
       "array([8307.49815, 9147.6053 ])"
      ]
     },
     "execution_count": 32,
     "metadata": {},
     "output_type": "execute_result"
    }
   ],
   "source": [
    "female_sample_mean=np.percentile(female_sample_mean,[2.5,97.5])\n",
    "female_sample_mean"
   ]
  },
  {
   "cell_type": "markdown",
   "id": "f3281df0-c401-429c-b47e-89cc840e31bd",
   "metadata": {},
   "source": [
    "H0(Null) Hypothesies: Gender does not have effect on purchase.\n",
    "\n",
    "H1(Alternate) Hypothesies: Gender does  have effect on purchase."
   ]
  },
  {
   "cell_type": "code",
   "execution_count": 113,
   "id": "e1395e7a-0c59-49cc-8643-9174cf10d447",
   "metadata": {},
   "outputs": [],
   "source": [
    "import scipy.stats as stats\n",
    "contingency_table = pd.crosstab(df['Gender'], df['Purchase'])\n",
    "chi2, p, dof, expected = stats.chi2_contingency(contingency_table)"
   ]
  },
  {
   "cell_type": "code",
   "execution_count": 121,
   "id": "5d5ac25d-46b1-49e3-b128-617ffdcba65d",
   "metadata": {},
   "outputs": [
    {
     "name": "stdout",
     "output_type": "stream",
     "text": [
      "Chi2 Statistic: 23742.23880904363\n",
      "p-value: 4.441402146544842e-161\n",
      "Gender does have effect on the purchsae.\n"
     ]
    }
   ],
   "source": [
    "print(\"Chi2 Statistic:\", chi2)\n",
    "print(\"p-value:\", p)\n",
    "\n",
    "if p< 0.05:\n",
    "    print(\"Gender does have effect on the purchsae.\")\n",
    "else:\n",
    "    print(\"Gender does not have effect on the purchsae.\")"
   ]
  },
  {
   "cell_type": "code",
   "execution_count": 37,
   "id": "46175840-5b54-430c-aa64-cbadda07e0af",
   "metadata": {},
   "outputs": [
    {
     "data": {
      "text/html": [
       "<div>\n",
       "<style scoped>\n",
       "    .dataframe tbody tr th:only-of-type {\n",
       "        vertical-align: middle;\n",
       "    }\n",
       "\n",
       "    .dataframe tbody tr th {\n",
       "        vertical-align: top;\n",
       "    }\n",
       "\n",
       "    .dataframe thead th {\n",
       "        text-align: right;\n",
       "    }\n",
       "</style>\n",
       "<table border=\"1\" class=\"dataframe\">\n",
       "  <thead>\n",
       "    <tr style=\"text-align: right;\">\n",
       "      <th></th>\n",
       "      <th>User_ID</th>\n",
       "      <th>Product_ID</th>\n",
       "      <th>Gender</th>\n",
       "      <th>Age</th>\n",
       "      <th>Occupation</th>\n",
       "      <th>City_Category</th>\n",
       "      <th>Stay_In_Current_City_Years</th>\n",
       "      <th>Marital_Status</th>\n",
       "      <th>Product_Category</th>\n",
       "      <th>Purchase</th>\n",
       "    </tr>\n",
       "  </thead>\n",
       "  <tbody>\n",
       "    <tr>\n",
       "      <th>0</th>\n",
       "      <td>1000001</td>\n",
       "      <td>P00069042</td>\n",
       "      <td>F</td>\n",
       "      <td>0-17</td>\n",
       "      <td>10</td>\n",
       "      <td>A</td>\n",
       "      <td>2</td>\n",
       "      <td>0</td>\n",
       "      <td>3</td>\n",
       "      <td>8370</td>\n",
       "    </tr>\n",
       "    <tr>\n",
       "      <th>1</th>\n",
       "      <td>1000001</td>\n",
       "      <td>P00248942</td>\n",
       "      <td>F</td>\n",
       "      <td>0-17</td>\n",
       "      <td>10</td>\n",
       "      <td>A</td>\n",
       "      <td>2</td>\n",
       "      <td>0</td>\n",
       "      <td>1</td>\n",
       "      <td>15200</td>\n",
       "    </tr>\n",
       "    <tr>\n",
       "      <th>2</th>\n",
       "      <td>1000001</td>\n",
       "      <td>P00087842</td>\n",
       "      <td>F</td>\n",
       "      <td>0-17</td>\n",
       "      <td>10</td>\n",
       "      <td>A</td>\n",
       "      <td>2</td>\n",
       "      <td>0</td>\n",
       "      <td>12</td>\n",
       "      <td>1422</td>\n",
       "    </tr>\n",
       "    <tr>\n",
       "      <th>3</th>\n",
       "      <td>1000001</td>\n",
       "      <td>P00085442</td>\n",
       "      <td>F</td>\n",
       "      <td>0-17</td>\n",
       "      <td>10</td>\n",
       "      <td>A</td>\n",
       "      <td>2</td>\n",
       "      <td>0</td>\n",
       "      <td>12</td>\n",
       "      <td>1057</td>\n",
       "    </tr>\n",
       "    <tr>\n",
       "      <th>4</th>\n",
       "      <td>1000002</td>\n",
       "      <td>P00285442</td>\n",
       "      <td>M</td>\n",
       "      <td>55+</td>\n",
       "      <td>16</td>\n",
       "      <td>C</td>\n",
       "      <td>4+</td>\n",
       "      <td>0</td>\n",
       "      <td>8</td>\n",
       "      <td>7969</td>\n",
       "    </tr>\n",
       "  </tbody>\n",
       "</table>\n",
       "</div>"
      ],
      "text/plain": [
       "   User_ID Product_ID Gender   Age  Occupation City_Category  \\\n",
       "0  1000001  P00069042      F  0-17          10             A   \n",
       "1  1000001  P00248942      F  0-17          10             A   \n",
       "2  1000001  P00087842      F  0-17          10             A   \n",
       "3  1000001  P00085442      F  0-17          10             A   \n",
       "4  1000002  P00285442      M   55+          16             C   \n",
       "\n",
       "  Stay_In_Current_City_Years  Marital_Status  Product_Category  Purchase  \n",
       "0                          2               0                 3      8370  \n",
       "1                          2               0                 1     15200  \n",
       "2                          2               0                12      1422  \n",
       "3                          2               0                12      1057  \n",
       "4                         4+               0                 8      7969  "
      ]
     },
     "execution_count": 37,
     "metadata": {},
     "output_type": "execute_result"
    }
   ],
   "source": [
    "df.head()"
   ]
  },
  {
   "cell_type": "code",
   "execution_count": 38,
   "id": "325c0739-b2ac-476c-97a2-1bbab28e35ed",
   "metadata": {},
   "outputs": [],
   "source": [
    "married=df[df['Marital_Status']==1]['Purchase'].count()"
   ]
  },
  {
   "cell_type": "code",
   "execution_count": 39,
   "id": "fb39a5cb-2148-43ae-ba61-4316f1153c3b",
   "metadata": {},
   "outputs": [
    {
     "data": {
      "text/plain": [
       "225337"
      ]
     },
     "execution_count": 39,
     "metadata": {},
     "output_type": "execute_result"
    }
   ],
   "source": [
    "married"
   ]
  },
  {
   "cell_type": "code",
   "execution_count": 40,
   "id": "b7300a0f-569c-4879-ba04-8ee72beea291",
   "metadata": {},
   "outputs": [],
   "source": [
    "unmarried=df[df['Marital_Status']==0]['Purchase'].count()"
   ]
  },
  {
   "cell_type": "code",
   "execution_count": 41,
   "id": "598132d4-5cf2-4585-bafa-003f9e0877f4",
   "metadata": {},
   "outputs": [
    {
     "data": {
      "text/plain": [
       "324731"
      ]
     },
     "execution_count": 41,
     "metadata": {},
     "output_type": "execute_result"
    }
   ],
   "source": [
    "unmarried"
   ]
  },
  {
   "cell_type": "code",
   "execution_count": 42,
   "id": "c2f30feb-8c9a-4ca8-b25d-83242529f627",
   "metadata": {},
   "outputs": [
    {
     "data": {
      "text/plain": [
       "Marital_Status\n",
       "0    9265.907619\n",
       "1    9261.174574\n",
       "Name: Purchase, dtype: float64"
      ]
     },
     "execution_count": 42,
     "metadata": {},
     "output_type": "execute_result"
    }
   ],
   "source": [
    "df.groupby('Marital_Status')['Purchase'].mean()"
   ]
  },
  {
   "cell_type": "code",
   "execution_count": 43,
   "id": "506f7f2a-1be4-47eb-a246-24d62fa32687",
   "metadata": {},
   "outputs": [
    {
     "data": {
      "text/html": [
       "<div>\n",
       "<style scoped>\n",
       "    .dataframe tbody tr th:only-of-type {\n",
       "        vertical-align: middle;\n",
       "    }\n",
       "\n",
       "    .dataframe tbody tr th {\n",
       "        vertical-align: top;\n",
       "    }\n",
       "\n",
       "    .dataframe thead th {\n",
       "        text-align: right;\n",
       "    }\n",
       "</style>\n",
       "<table border=\"1\" class=\"dataframe\">\n",
       "  <thead>\n",
       "    <tr style=\"text-align: right;\">\n",
       "      <th></th>\n",
       "      <th>count</th>\n",
       "      <th>mean</th>\n",
       "      <th>std</th>\n",
       "      <th>min</th>\n",
       "      <th>25%</th>\n",
       "      <th>50%</th>\n",
       "      <th>75%</th>\n",
       "      <th>max</th>\n",
       "    </tr>\n",
       "    <tr>\n",
       "      <th>Marital_Status</th>\n",
       "      <th></th>\n",
       "      <th></th>\n",
       "      <th></th>\n",
       "      <th></th>\n",
       "      <th></th>\n",
       "      <th></th>\n",
       "      <th></th>\n",
       "      <th></th>\n",
       "    </tr>\n",
       "  </thead>\n",
       "  <tbody>\n",
       "    <tr>\n",
       "      <th>0</th>\n",
       "      <td>324731.0</td>\n",
       "      <td>9265.907619</td>\n",
       "      <td>5027.347859</td>\n",
       "      <td>12.0</td>\n",
       "      <td>5605.0</td>\n",
       "      <td>8044.0</td>\n",
       "      <td>12061.0</td>\n",
       "      <td>23961.0</td>\n",
       "    </tr>\n",
       "    <tr>\n",
       "      <th>1</th>\n",
       "      <td>225337.0</td>\n",
       "      <td>9261.174574</td>\n",
       "      <td>5016.897378</td>\n",
       "      <td>12.0</td>\n",
       "      <td>5843.0</td>\n",
       "      <td>8051.0</td>\n",
       "      <td>12042.0</td>\n",
       "      <td>23961.0</td>\n",
       "    </tr>\n",
       "  </tbody>\n",
       "</table>\n",
       "</div>"
      ],
      "text/plain": [
       "                   count         mean          std   min     25%     50%  \\\n",
       "Marital_Status                                                             \n",
       "0               324731.0  9265.907619  5027.347859  12.0  5605.0  8044.0   \n",
       "1               225337.0  9261.174574  5016.897378  12.0  5843.0  8051.0   \n",
       "\n",
       "                    75%      max  \n",
       "Marital_Status                    \n",
       "0               12061.0  23961.0  \n",
       "1               12042.0  23961.0  "
      ]
     },
     "execution_count": 43,
     "metadata": {},
     "output_type": "execute_result"
    }
   ],
   "source": [
    "df.groupby('Marital_Status')['Purchase'].describe()"
   ]
  },
  {
   "cell_type": "code",
   "execution_count": 44,
   "id": "494ac010-44a0-4c24-9a32-7b940ba1e258",
   "metadata": {},
   "outputs": [
    {
     "data": {
      "text/plain": [
       "Marital_Status\n",
       "0    59.034701\n",
       "1    40.965299\n",
       "Name: proportion, dtype: float64"
      ]
     },
     "execution_count": 44,
     "metadata": {},
     "output_type": "execute_result"
    }
   ],
   "source": [
    "df['Marital_Status'].value_counts(normalize=True)*100"
   ]
  },
  {
   "cell_type": "code",
   "execution_count": 45,
   "id": "99bbe465-7b93-4eb8-83bb-f9de459cecc6",
   "metadata": {},
   "outputs": [
    {
     "data": {
      "text/plain": [
       "<seaborn.axisgrid.FacetGrid at 0x20bd7c0dd30>"
      ]
     },
     "execution_count": 45,
     "metadata": {},
     "output_type": "execute_result"
    },
    {
     "data": {
      "image/png": "[encoded data removed]",
      "text/plain": [
       "<Figure size 610.611x500 with 1 Axes>"
      ]
     },
     "metadata": {},
     "output_type": "display_data"
    }
   ],
   "source": [
    "sns.displot(x='Purchase',hue='Marital_Status',data=df,bins=25)"
   ]
  },
  {
   "cell_type": "code",
   "execution_count": 46,
   "id": "0e75ade5-f4e1-4273-adb7-4627a8a0b83e",
   "metadata": {},
   "outputs": [],
   "source": [
    "n=500\n",
    "itr=1000\n",
    "unmarried_sample_mean=[df[df['Marital_Status']==0].sample(n,replace=True)['Purchase'].mean() for i in range (itr)]"
   ]
  },
  {
   "cell_type": "code",
   "execution_count": 47,
   "id": "885192ee-41ec-47a5-8151-59fccae786ad",
   "metadata": {},
   "outputs": [],
   "source": [
    "n=500\n",
    "itr=1000\n",
    "married_sample_mean=[df[df['Marital_Status']==1].sample(n,replace=True)['Purchase'].mean() for i in range (itr)]"
   ]
  },
  {
   "cell_type": "code",
   "execution_count": 48,
   "id": "2706dee3-4297-4b71-b0fc-71308c342eb7",
   "metadata": {},
   "outputs": [
    {
     "data": {
      "text/plain": [
       "<seaborn.axisgrid.FacetGrid at 0x20bd54d0800>"
      ]
     },
     "execution_count": 48,
     "metadata": {},
     "output_type": "execute_result"
    },
    {
     "data": {
      "image/png": "[encoded data removed]",
      "text/plain": [
       "<Figure size 500x500 with 1 Axes>"
      ]
     },
     "metadata": {},
     "output_type": "display_data"
    }
   ],
   "source": [
    "sns.displot(unmarried_sample_mean)"
   ]
  },
  {
   "cell_type": "code",
   "execution_count": 49,
   "id": "d15517bd-524b-4054-9da0-0eb2f97b36cb",
   "metadata": {},
   "outputs": [
    {
     "data": {
      "text/plain": [
       "<seaborn.axisgrid.FacetGrid at 0x20bd140f050>"
      ]
     },
     "execution_count": 49,
     "metadata": {},
     "output_type": "execute_result"
    },
    {
     "data": {
      "image/png": "[encoded data removed]",
      "text/plain": [
       "<Figure size 500x500 with 1 Axes>"
      ]
     },
     "metadata": {},
     "output_type": "display_data"
    }
   ],
   "source": [
    "sns.displot(married_sample_mean)"
   ]
  },
  {
   "cell_type": "code",
   "execution_count": 50,
   "id": "a5b6742f-2a7e-4f73-9332-076660e9a5d9",
   "metadata": {},
   "outputs": [
    {
     "data": {
      "text/plain": [
       "array([8803.8141, 9685.7824])"
      ]
     },
     "execution_count": 50,
     "metadata": {},
     "output_type": "execute_result"
    }
   ],
   "source": [
    "married_limits= np.percentile(married_sample_mean, [2.5, 97.5])\n",
    "married_limits"
   ]
  },
  {
   "cell_type": "code",
   "execution_count": 51,
   "id": "2b7183df-edb8-455b-90ed-6a445090fea4",
   "metadata": {},
   "outputs": [
    {
     "data": {
      "text/plain": [
       "array([8829.54265, 9695.16385])"
      ]
     },
     "execution_count": 51,
     "metadata": {},
     "output_type": "execute_result"
    }
   ],
   "source": [
    "unmarried_limits= np.percentile(unmarried_sample_mean, [2.5, 97.5])\n",
    "unmarried_limits"
   ]
  },
  {
   "cell_type": "code",
   "execution_count": 125,
   "id": "01bb46b4-6e1c-4770-9351-f1fd03689e7d",
   "metadata": {},
   "outputs": [],
   "source": [
    "contingency_table = pd.crosstab(df['Marital_Status'], df['Purchase'])"
   ]
  },
  {
   "cell_type": "code",
   "execution_count": 59,
   "id": "b80d88d9-5290-467e-80f5-f4106897c434",
   "metadata": {},
   "outputs": [],
   "source": [
    "import scipy.stats as stats"
   ]
  },
  {
   "cell_type": "code",
   "execution_count": 127,
   "id": "1d7fb494-7e9a-469a-a15a-78e0fd840ecb",
   "metadata": {},
   "outputs": [],
   "source": [
    "chi2, p, dof, expected = stats.chi2_contingency(contingency_table)"
   ]
  },
  {
   "cell_type": "code",
   "execution_count": 129,
   "id": "62bd4873-3420-4675-b012-629c7bd3860e",
   "metadata": {},
   "outputs": [
    {
     "name": "stdout",
     "output_type": "stream",
     "text": [
      "Chi2 Statistic: 18358.59467374225\n",
      "p-value: 0.0908971783251125\n",
      "Marital_Status does not have effect on the purchsae.\n"
     ]
    }
   ],
   "source": [
    "print(\"Chi2 Statistic:\", chi2)\n",
    "print(\"p-value:\", p)\n",
    "\n",
    "if p< 0.05:\n",
    "    print(\"Marital_Status does have effect on the purchsae.\")\n",
    "else:\n",
    "    print(\"Marital_Status does not have effect on the purchsae.\")"
   ]
  },
  {
   "cell_type": "code",
   "execution_count": 63,
   "id": "21a9b772-8029-45c9-9667-9da4ff8a4b9a",
   "metadata": {},
   "outputs": [
    {
     "data": {
      "text/plain": [
       "7"
      ]
     },
     "execution_count": 63,
     "metadata": {},
     "output_type": "execute_result"
    }
   ],
   "source": [
    "df['Age'].nunique()"
   ]
  },
  {
   "cell_type": "code",
   "execution_count": 64,
   "id": "2c87a59f-1786-4111-b70f-e7e6400b2f15",
   "metadata": {},
   "outputs": [
    {
     "data": {
      "text/plain": [
       "Age\n",
       "0-17     8933.464640\n",
       "18-25    9169.663606\n",
       "26-35    9252.690633\n",
       "36-45    9331.350695\n",
       "46-50    9208.625697\n",
       "51-55    9534.808031\n",
       "55+      9336.280459\n",
       "Name: Purchase, dtype: float64"
      ]
     },
     "execution_count": 64,
     "metadata": {},
     "output_type": "execute_result"
    }
   ],
   "source": [
    "df.groupby('Age')['Purchase'].mean()"
   ]
  },
  {
   "cell_type": "code",
   "execution_count": 65,
   "id": "008c0c79-8c59-4015-81f3-77a8ca913d1e",
   "metadata": {},
   "outputs": [
    {
     "data": {
      "text/plain": [
       "Age\n",
       "26-35    39.919974\n",
       "36-45    19.999891\n",
       "18-25    18.117760\n",
       "46-50     8.308246\n",
       "51-55     6.999316\n",
       "55+       3.909335\n",
       "0-17      2.745479\n",
       "Name: proportion, dtype: float64"
      ]
     },
     "execution_count": 65,
     "metadata": {},
     "output_type": "execute_result"
    }
   ],
   "source": [
    "df['Age'].value_counts(normalize=True)*100"
   ]
  },
  {
   "cell_type": "code",
   "execution_count": 66,
   "id": "3bf53806-d05b-48cd-b06f-5275a958d525",
   "metadata": {},
   "outputs": [
    {
     "data": {
      "text/plain": [
       "<seaborn.axisgrid.FacetGrid at 0x20bd7c0d730>"
      ]
     },
     "execution_count": 66,
     "metadata": {},
     "output_type": "execute_result"
    },
    {
     "data": {
      "image/png": "[encoded data removed]",
      "text/plain": [
       "<Figure size 590.375x500 with 1 Axes>"
      ]
     },
     "metadata": {},
     "output_type": "display_data"
    }
   ],
   "source": [
    "sns.displot(x=df['Purchase'],hue=df['Age'],data=df,bins=25)"
   ]
  },
  {
   "cell_type": "code",
   "execution_count": 67,
   "id": "84bca346-5e15-450a-9143-3019a7e75fc9",
   "metadata": {},
   "outputs": [
    {
     "data": {
      "text/plain": [
       "Chi2ContingencyResult(statistic=118078.58708563307, pvalue=6.49987300707075e-87, dof=108624, expected_freq=array([[ 2.77293353,  2.91020747,  2.6082048 , ...,  0.05490957,\n",
       "         0.10981915,  0.08236436],\n",
       "       [18.29893759, 19.20482559, 17.21187199, ...,  0.3623552 ,\n",
       "         0.7247104 ,  0.5435328 ],\n",
       "       [40.31917327, 42.31517194, 37.92397485, ...,  0.79839947,\n",
       "         1.59679894,  1.19759921],\n",
       "       ...,\n",
       "       [ 8.39132798,  8.80674026,  7.89283325, ...,  0.16616491,\n",
       "         0.33232982,  0.24924737],\n",
       "       [ 7.06930961,  7.41927544,  6.64935063, ...,  0.13998633,\n",
       "         0.27997266,  0.20997949],\n",
       "       [ 3.94842819,  4.14389494,  3.7138681 , ...,  0.0781867 ,\n",
       "         0.15637339,  0.11728005]]))"
      ]
     },
     "execution_count": 67,
     "metadata": {},
     "output_type": "execute_result"
    }
   ],
   "source": [
    "from scipy.stats import chi2_contingency\n",
    "contingency_table = pd.crosstab(df['Age'], df['Purchase'])\n",
    "chi2=chi2_contingency(contingency_table)\n",
    "chi2"
   ]
  },
  {
   "cell_type": "markdown",
   "id": "c4184d43-4649-4ac7-ac48-3b93a7954689",
   "metadata": {},
   "source": [
    "Age does have effect on the Purchase"
   ]
  },
  {
   "cell_type": "markdown",
   "id": "cd0990c0-a268-4155-b81a-e87d9f417f92",
   "metadata": {},
   "source": [
    "### Final Insights"
   ]
  },
  {
   "cell_type": "markdown",
   "id": "3a130bcf-bd7b-45d1-aa32-a4e7011e34fd",
   "metadata": {},
   "source": [
    "#### Impact of Gender on Purchase\n",
    "#### Key Insight:\n",
    "-Our analysis indicates a clear and significant impact of gender on purchase behavior.When analyzing purchase patterns by gender, we found distinct differences in average spending, product preferences, or frequency of purchases between men and women.\n",
    "\n",
    "-Gender and Age are crucial factors that should be considered in targeted marketing and product offerings. The distinct preferences and spending behaviors identified in these segments can be leveraged to optimize inventory, tailor promotions, and improve customer satisfaction.\n",
    "\n",
    "-Contrary to gender, our analysis shows that marital status does not significantly influence purchase behavior. There were no significant differences in average purchase amounts when we segmented customers by marital status.\n",
    "\n",
    "-This finding suggests that marketing strategies or promotions targeting marital status may not yield substantial differences in outcomes. \n",
    "\n",
    "-Gender plays a significant role in influencing purchase behavior. Certain product categories may be more appealing to men or women, leading to differentiated marketing strategies.\n",
    "\n",
    "\n"
   ]
  },
  {
   "cell_type": "markdown",
   "id": "1327e21c-3074-45ee-aed7-47cbccca4ad9",
   "metadata": {},
   "source": [
    "### Key insights and recommendations to consider in order to increase sales:high-traffic times."
   ]
  },
  {
   "cell_type": "raw",
   "id": "d90634b6-0af3-456f-b5ac-7bfa6c37c036",
   "metadata": {},
   "source": [
    " 1.Target Male Customers with Higher Spending Potential\n",
    "Insight: Male customers spend more on average than female customers, with average purchase $9,437.53 compartd to $8,734.57 for female customers. Additionally, men constitute 75.31% of the customer base​.\n",
    "Recommendation: Increase marketing efforts towards male customers, especially during peak shopping events like Black Friday. This could include personalized promotions, exclusive deals, and targeted advertisements that align with the products and categories most popular among male shopperss.\n",
    "\n",
    "2. Leverage the High Spending Capacity of Older Age Groups\n",
    "Insight: Customers aged 51-55 have the highest average purchase amount ($9,534.81), followed by those aged 55+ and 36-45​. However, the largest customer segment is the 26-35 age group, which represents 39.92% of the customer base​.\n",
    "Recommendation: Tailor marketing strategies to cater to older age groups, who exhibit a higher spending potential. For example, consider offering premium products, loyalty rewards, and exclusive shopping experiences that appeal to these demographics.\n",
    "\n",
    "3. Capitalize on the High Purchase Amounts of Married Customers\n",
    "Insight: While marital status does not significantly affect the average purchase amount, married customers have a slightly higher average purchase amount compared tounmarried \n",
    "customers​.\n",
    "Recommendation: Walmart could explore family-oriented promotions and bundle deals that cater to the needs of married customers, especially those with children. This could include discounts on bulk purchases, special offers on family-related products, and enhanced loyalty programs for families.\n",
    "\n",
    "4. Focus on Product Categories with High Male and Female Participation\n",
    "Insight: While the analysis did not explicitly detail the product categories, Walmart can further segment product categories that are popular among each gender. Men, for instance, could be targeted with promotions on electronics, tools, and sports gear, while women could be enticed with fashion, beauty roducts, and household items.\n",
    "Recommendation: Develop gender-specific marketing campaigns that highlight popular product categories for each group. Use data-driven insights to tailor these campaigns, ensuring that they resonate with the specific needs and preferences of each gender.\n",
    "\n",
    "5. Optimize Promotions During Peak Shopping Periods\n",
    "Insight: Peak shopping events like Black Friday show significant spending patt ns across various customer segments.\n",
    "Recommendation: Walmart should plan extensive marketing campaigns and stock management strategies during these periods. Promotions should be tailored to the spending behaviors identified in the analysis, ensuring that Walmart maximizes sales during these high-traffic times."
   ]
  },
  {
   "cell_type": "code",
   "execution_count": null,
   "id": "acf12962-120f-4acf-8efd-37d02398bb70",
   "metadata": {},
   "outputs": [],
   "source": []
  }
 ],
 "metadata": {
  "kernelspec": {
   "display_name": "Python 3 (ipykernel)",
   "language": "python",
   "name": "python3"
  },
  "language_info": {
   "codemirror_mode": {
    "name": "ipython",
    "version": 3
   },
   "file_extension": ".py",
   "mimetype": "text/x-python",
   "name": "python",
   "nbconvert_exporter": "python",
   "pygments_lexer": "ipython3",
   "version": "3.12.4"
  }
 },
 "nbformat": 4,
 "nbformat_minor": 5
}
